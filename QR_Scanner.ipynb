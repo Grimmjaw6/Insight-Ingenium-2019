{
 "cells": [
  {
   "cell_type": "code",
   "execution_count": 2,
   "metadata": {
    "collapsed": true
   },
   "outputs": [],
   "source": [
    "import cv2\n",
    "from pyzbar import pyzbar\n",
    "import argparse"
   ]
  },
  {
   "cell_type": "code",
   "execution_count": 4,
   "metadata": {},
   "outputs": [],
   "source": [
    "#ap = argparse.ArgumentParser()\n",
    "#ap.add_argument(\"-i\", \"--image\", required=True, help=\"Path to input Image\")\n",
    "#args=vars(ap.parse_args())"
   ]
  },
  {
   "cell_type": "code",
   "execution_count": 9,
   "metadata": {},
   "outputs": [
    {
     "name": "stdout",
     "output_type": "stream",
     "text": [
      "\"There is never a good enough reason to justify a QR Code.\" - Scott Hanselman (QRCODE)\n"
     ]
    }
   ],
   "source": [
    "image = cv2.imread(\"C:/Users/Heet Gorakhitya/Desktop/QR3.png\")\n",
    "qrcodes = pyzbar.decode(image)\n",
    "\n",
    "for qr in qrcodes:\n",
    "    (x,y,w,h) = qr.rect\n",
    "    cv2.rectangle(image, (x,y), (x+w,y+h), (0,0,255), 2)\n",
    "    \n",
    "    qrData = qr.data.decode(\"utf-8\")\n",
    "    qrType = qr.type\n",
    "    \n",
    "    text = \"{} ({})\".format(qrData, qrType)\n",
    "    cv2.putText(image, text, (x, y-10), cv2.FONT_HERSHEY_SIMPLEX, 0.5, (0,0,255), 2)\n",
    "\n",
    "cv2.imshow(\"Image\", image)\n",
    "cv2.waitKey(0)\n",
    "print(text)"
   ]
  },
  {
   "cell_type": "code",
   "execution_count": null,
   "metadata": {
    "collapsed": true
   },
   "outputs": [],
   "source": []
  }
 ],
 "metadata": {
  "kernelspec": {
   "display_name": "Python 3",
   "language": "python",
   "name": "python3"
  },
  "language_info": {
   "codemirror_mode": {
    "name": "ipython",
    "version": 3
   },
   "file_extension": ".py",
   "mimetype": "text/x-python",
   "name": "python",
   "nbconvert_exporter": "python",
   "pygments_lexer": "ipython3",
   "version": "3.6.5"
  }
 },
 "nbformat": 4,
 "nbformat_minor": 2
}
